{
 "cells": [
  {
   "cell_type": "code",
   "execution_count": 1,
   "metadata": {},
   "outputs": [],
   "source": [
    "import torch\n",
    "import torch.nn as nn\n",
    "import torchvision.models as models\n",
    "import torch.optim as optim\n",
    "from torch.utils.data import Dataset\n",
    "from torch.utils.data import DataLoader\n",
    "\n",
    "import os\n",
    "import cv2\n",
    "import json\n",
    "import numpy as np\n",
    "import joblib\n",
    "from datetime import timedelta\n",
    "\n",
    "import matplotlib.pyplot as plt\n",
    "from sklearn.metrics import accuracy_score, precision_score, recall_score, f1_score\n",
    "\n",
    "from tqdm import tqdm\n",
    "from sklearn.model_selection import train_test_split\n",
    "from IPython.display import clear_output\n",
    "from sklearn.metrics import confusion_matrix\n"
   ]
  },
  {
   "cell_type": "code",
   "execution_count": 2,
   "metadata": {},
   "outputs": [],
   "source": [
    "class CustomDataset(Dataset):\n",
    "    def __init__(self, x, y):\n",
    "        self.y = y.copy()\n",
    "        self.x = x.copy()\n",
    "\n",
    "    def __len__(self):\n",
    "        return len(self.x)\n",
    "\n",
    "    def __getitem__(self, idx):\n",
    "        sample = self.x[idx]\n",
    "        sample_y = self.y[idx]\n",
    "        return torch.tensor(sample).float(), torch.tensor(sample_y).float()"
   ]
  },
  {
   "cell_type": "code",
   "execution_count": 3,
   "metadata": {},
   "outputs": [
    {
     "name": "stderr",
     "output_type": "stream",
     "text": [
      "  0%|          | 0/34 [00:00<?, ?it/s]"
     ]
    },
    {
     "name": "stderr",
     "output_type": "stream",
     "text": [
      "100%|██████████| 34/34 [00:41<00:00,  1.22s/it]\n"
     ]
    }
   ],
   "source": [
    "def time_to_seconds(time_str):\n",
    "    \"\"\"Преобразует строку формата MM:SS в количество секунд\"\"\"\n",
    "    minutes, seconds = map(int, time_str.split(':'))\n",
    "    return minutes * 60 + seconds\n",
    "\n",
    "def extract_frames(video_path, time_intervals, target_resolution, frame_rate):\n",
    "    \"\"\"Извлекает кадры из видеофайла в указанных временных промежутках и сохраняет их с указанной меткой\"\"\"\n",
    "    cap = cv2.VideoCapture(video_path)\n",
    "    frames = []\n",
    "    labels = []\n",
    "    for start_time, end_time in time_intervals:\n",
    "        start_frame = int(frame_rate * start_time)\n",
    "        end_frame = int(frame_rate * end_time)\n",
    "        l = (end_frame - start_frame) // 2\n",
    "        real_start_frame = start_frame\n",
    "        if start_frame - l > 0:\n",
    "            cap.set(cv2.CAP_PROP_POS_FRAMES, start_frame-l)\n",
    "            current_frame = start_frame-l\n",
    "            start_frame = start_frame-l\n",
    "        else:\n",
    "            cap.set(cv2.CAP_PROP_POS_FRAMES, 0)\n",
    "            current_frame = 0\n",
    "            start_frame = 0\n",
    "        current_frame = start_frame\n",
    "        total_frames = int(cap.get(cv2.CAP_PROP_FRAME_COUNT))\n",
    "        real_end_frame = end_frame\n",
    "        if end_frame + l < total_frames:\n",
    "            end_frame = end_frame + l\n",
    "        else:\n",
    "            end_frame = total_frames\n",
    "        while cap.isOpened() and current_frame <= end_frame:\n",
    "            ret, frame = cap.read()\n",
    "            if not ret:\n",
    "                break\n",
    "            frame = cv2.cvtColor(frame, cv2.COLOR_BGR2RGB)\n",
    "            frame = cv2.resize(frame, target_resolution)\n",
    "            frames.append(frame / 255)\n",
    "            if current_frame > real_start_frame and current_frame < real_end_frame:\n",
    "                labels.append(1)\n",
    "            else:\n",
    "                labels.append(0)\n",
    "            current_frame += 1\n",
    "    frames = np.array(frames).astype(np.float32)\n",
    "    #frames = np.array_split(frames, ((end_frame-start_frame)//10)+1)\n",
    "    labels = np.array(labels)\n",
    "    #labels = np.array_split(labels, ((end_frame-start_frame)//10)+1)\n",
    "    cap.release()\n",
    "    return frames, labels\n",
    "\n",
    "def prepare_dataset(video_dir, annotation_file, target_resolution, violation_type):\n",
    "    \"\"\"Готовит набор данных на основе видеофайлов и разметки\"\"\"\n",
    "    with open(annotation_file, 'r', encoding='utf-8') as f:\n",
    "        annotations = json.load(f)\n",
    "    videos = []\n",
    "    all_lables = []\n",
    "    for annotation in tqdm(annotations):\n",
    "        video_name = annotation['name']\n",
    "        start_time = time_to_seconds(annotation['start'])\n",
    "        end_time = time_to_seconds(annotation['end'])\n",
    "        violation = annotation['type']\n",
    "\n",
    "        video_path = os.path.join(video_dir, video_name)\n",
    "        frame_rate = cv2.VideoCapture(video_path).get(cv2.CAP_PROP_FPS)\n",
    "\n",
    "        if violation_type == violation:\n",
    "            frames, lables = extract_frames(video_path, [(start_time, end_time)],target_resolution, frame_rate)\n",
    "            videos.extend(frames)\n",
    "            all_lables.extend(lables)\n",
    "    videos = np.array(videos)\n",
    "    all_lables = np.array(all_lables)\n",
    "    return videos, all_lables\n",
    "\n",
    "video_dir = '../data/train'\n",
    "\n",
    "# Путь к файлу разметки\n",
    "annotation_file = '../data/train/разметка.json'\n",
    "output_path = \"../data/подлезание/\"\n",
    "\n",
    "# Путь к папке, куда будут сохранены последовательности\n",
    "violation_type = \"Подлезание под вагоны стоящего состава\"\n",
    "target_resolution = (50, 50)\n",
    "\n",
    "# Подготовка данных\n",
    "X, y = prepare_dataset(video_dir, annotation_file, target_resolution, violation_type)\n"
   ]
  },
  {
   "cell_type": "code",
   "execution_count": 4,
   "metadata": {},
   "outputs": [],
   "source": [
    "l = len(X) // 10"
   ]
  },
  {
   "cell_type": "code",
   "execution_count": 5,
   "metadata": {},
   "outputs": [
    {
     "data": {
      "text/plain": [
       "798"
      ]
     },
     "execution_count": 5,
     "metadata": {},
     "output_type": "execute_result"
    }
   ],
   "source": [
    "X = np.array_split(X, l)\n",
    "len(X)"
   ]
  },
  {
   "cell_type": "code",
   "execution_count": 6,
   "metadata": {},
   "outputs": [
    {
     "data": {
      "text/plain": [
       "791"
      ]
     },
     "execution_count": 6,
     "metadata": {},
     "output_type": "execute_result"
    }
   ],
   "source": [
    "max_length = max(len(section) for section in X)\n",
    "X = [i for i in X if len(i)!=max_length]\n",
    "len(X)"
   ]
  },
  {
   "cell_type": "code",
   "execution_count": 7,
   "metadata": {},
   "outputs": [
    {
     "data": {
      "text/plain": [
       "798"
      ]
     },
     "execution_count": 7,
     "metadata": {},
     "output_type": "execute_result"
    }
   ],
   "source": [
    "y = np.array_split(y, l)\n",
    "len(y)"
   ]
  },
  {
   "cell_type": "code",
   "execution_count": 8,
   "metadata": {},
   "outputs": [
    {
     "data": {
      "text/plain": [
       "791"
      ]
     },
     "execution_count": 8,
     "metadata": {},
     "output_type": "execute_result"
    }
   ],
   "source": [
    "max_length = max(len(section) for section in y)\n",
    "y = [i for i in y if len(i)!=max_length]\n",
    "len(y)"
   ]
  },
  {
   "cell_type": "code",
   "execution_count": 9,
   "metadata": {},
   "outputs": [],
   "source": [
    "from sklearn.model_selection import train_test_split"
   ]
  },
  {
   "cell_type": "code",
   "execution_count": 10,
   "metadata": {},
   "outputs": [],
   "source": [
    "X_train, X_test, y_train, y_test = train_test_split(X, y, test_size=0.1, random_state=42)\n",
    "train_dataset = CustomDataset(X_train, y_train)\n",
    "test_dataset = CustomDataset(X_test, y_test)\n",
    "train_loader = DataLoader(train_dataset, batch_size=10, shuffle=True)\n",
    "val_loader = DataLoader(test_dataset, batch_size=10, shuffle=False)"
   ]
  },
  {
   "cell_type": "code",
   "execution_count": 11,
   "metadata": {},
   "outputs": [],
   "source": [
    "data, label = next(iter(train_loader))"
   ]
  },
  {
   "cell_type": "code",
   "execution_count": 12,
   "metadata": {},
   "outputs": [
    {
     "data": {
      "text/plain": [
       "torch.Size([10, 10, 50, 50, 3])"
      ]
     },
     "execution_count": 12,
     "metadata": {},
     "output_type": "execute_result"
    }
   ],
   "source": [
    "data.shape"
   ]
  },
  {
   "cell_type": "code",
   "execution_count": 13,
   "metadata": {},
   "outputs": [
    {
     "data": {
      "text/plain": [
       "torch.Size([10, 10])"
      ]
     },
     "execution_count": 13,
     "metadata": {},
     "output_type": "execute_result"
    }
   ],
   "source": [
    "label.shape"
   ]
  },
  {
   "cell_type": "code",
   "execution_count": 14,
   "metadata": {},
   "outputs": [],
   "source": [
    "class CNNLSTM(nn.Module):\n",
    "    def __init__(self):\n",
    "        super(CNNLSTM, self).__init__()\n",
    "        self.flatten = nn.Flatten()\n",
    "        self.cnn = nn.Sequential(\n",
    "            nn.Conv2d(3, 32, kernel_size=3, stride=1, padding=1),\n",
    "            nn.ReLU(),\n",
    "            nn.MaxPool2d(kernel_size=2, stride=2),\n",
    "            nn.Conv2d(32, 64, kernel_size=3, stride=1, padding=1),\n",
    "            nn.ReLU(),\n",
    "            nn.MaxPool2d(kernel_size=2, stride=2)\n",
    "        )\n",
    "        self.lstm = nn.LSTM(64 * 144, 128, batch_first=True)\n",
    "        self.fc = nn.Linear(128, 10)\n",
    "        self.sigmoid = nn.Sigmoid()\n",
    "\n",
    "    def forward(self, x):\n",
    "        batch_size, seq_length, w, h, c = x.size()\n",
    "        c_in = x.view(batch_size * seq_length, c, h, w)\n",
    "        #c_in = self.flatten(c_in)\n",
    "        c_out = self.cnn(c_in)\n",
    "        c_out = c_out.view(batch_size, seq_length, -1)\n",
    "        lstm_out, _ = self.lstm(c_out)\n",
    "        lstm_out = lstm_out[:, -1, :]\n",
    "        fc_out = self.fc(lstm_out)\n",
    "        out = self.sigmoid(fc_out)\n",
    "        return out\n",
    "\n",
    "model = CNNLSTM()\n"
   ]
  },
  {
   "cell_type": "code",
   "execution_count": 15,
   "metadata": {},
   "outputs": [],
   "source": [
    "class EarlyStopping:\n",
    "    def __init__(self, patience=10, verbose=False, delta=0, path='checkpoint.pt'):\n",
    "        \"\"\"\n",
    "        Args:\n",
    "            patience (int): Сколько эпох ждать после последнего улучшения метрики\n",
    "            verbose (bool): Выводить сообщения о каждой проверке (по умолчанию False)\n",
    "            delta (float): Минимальное изменение для улучшения метрики\n",
    "            path (str): Путь для сохранения модели\n",
    "        \"\"\"\n",
    "        self.patience = patience\n",
    "        self.verbose = verbose\n",
    "        self.delta = delta\n",
    "        self.path = path\n",
    "        self.counter = 0\n",
    "        self.best_score = None\n",
    "        self.early_stop = False\n",
    "        self.val_loss_min = np.Inf\n",
    "\n",
    "    def __call__(self, val_loss, model):\n",
    "        score = -val_loss\n",
    "\n",
    "        if self.best_score is None:\n",
    "            self.best_score = score\n",
    "            self.save_checkpoint(val_loss, model)\n",
    "        elif score < self.best_score + self.delta:\n",
    "            self.counter += 1\n",
    "            if self.verbose:\n",
    "                print(f'EarlyStopping counter: {self.counter} out of {self.patience}')\n",
    "            if self.counter >= self.patience:\n",
    "                self.early_stop = True\n",
    "        else:\n",
    "            self.best_score = score\n",
    "            self.save_checkpoint(val_loss, model)\n",
    "            self.counter = 0\n",
    "\n",
    "    def save_checkpoint(self, val_loss, model):\n",
    "        '''Сохранение модели, если валидационная потеря уменьшилась'''\n",
    "        if self.verbose:\n",
    "            print(f'Validation loss decreased ({self.val_loss_min:.6f} --> {val_loss:.6f}).  Saving model ...')\n",
    "        torch.save(model.state_dict(), self.path)\n",
    "        self.val_loss_min = val_loss\n"
   ]
  },
  {
   "cell_type": "code",
   "execution_count": 16,
   "metadata": {},
   "outputs": [
    {
     "name": "stdout",
     "output_type": "stream",
     "text": [
      "Using device: cuda\n"
     ]
    }
   ],
   "source": [
    "device = torch.device(\"cuda\" if torch.cuda.is_available() else \"cpu\")\n",
    "print(f'Using device: {device}')"
   ]
  },
  {
   "cell_type": "code",
   "execution_count": 17,
   "metadata": {},
   "outputs": [
    {
     "name": "stdout",
     "output_type": "stream",
     "text": [
      "Epoch 43, Validation Loss: 0.252855, Accuracy: 0.6000\n"
     ]
    },
    {
     "data": {
      "image/png": "[encoded data removed]",
      "text/plain": [
       "<Figure size 640x480 with 1 Axes>"
      ]
     },
     "metadata": {},
     "output_type": "display_data"
    },
    {
     "name": "stdout",
     "output_type": "stream",
     "text": [
      "EarlyStopping counter: 30 out of 30\n",
      "Early stopping\n"
     ]
    }
   ],
   "source": [
    "# Инициализация модели, функции потерь и оптимизатора\n",
    "model.to(device)\n",
    "criterion = nn.MSELoss()\n",
    "optimizer = optim.Adam(model.parameters(), lr=0.001, weight_decay=0.001)\n",
    "\n",
    "# Параметры ранней остановки\n",
    "early_stopping = EarlyStopping(patience=30, verbose=True)\n",
    "\n",
    "# Цикл обучения\n",
    "# Lists to store metrics for plotting\n",
    "accuracy_list = []\n",
    "precision_list = []\n",
    "recall_list = []\n",
    "f1_list = []\n",
    "\n",
    "num_epochs = 1000\n",
    "for epoch in range(num_epochs):\n",
    "    # Training\n",
    "    model.train()\n",
    "    size = len(train_dataset)\n",
    "    i = 0\n",
    "    for data, target in train_loader:\n",
    "        data, target = data.to(device), target.to(device)\n",
    "        optimizer.zero_grad()\n",
    "        output = model(data)\n",
    "        loss = criterion(output, target)\n",
    "        loss.backward()\n",
    "        optimizer.step()\n",
    "        i+=1\n",
    "\n",
    "        if i % 100 == 0:\n",
    "            loss, current = loss.item(), i * len(data)\n",
    "            print(f\"loss: {loss:>7f} [{current:>5d}/{size:>5d}]\")\n",
    "\n",
    "    # Validation\n",
    "    model.eval()\n",
    "    val_loss = 0\n",
    "    predictions = []\n",
    "    targets = []\n",
    "    with torch.no_grad():\n",
    "        for data, target in val_loader:\n",
    "            data, target = data.to(device), target.to(device)\n",
    "            output = model(data)\n",
    "            loss = criterion(output, target)\n",
    "            val_loss += loss.item()\n",
    "            predictions.extend([x > 0.5 for x in output.cpu().numpy()])\n",
    "            targets.extend([x > 0.5 for x in target.cpu().numpy()])\n",
    "\n",
    "        val_loss = val_loss / len(val_loader)\n",
    "\n",
    "        # Calculate metrics\n",
    "        #predictions = [x > 0.5 for x in predictions]\n",
    "        #targets = [x > 0.5 for x in targets]\n",
    "        accuracy = accuracy_score(targets, predictions)\n",
    "        #precision = precision_score(targets, predictions)\n",
    "        #recall = recall_score(targets, predictions)\n",
    "        #f1 = f1_score(targets, predictions)\n",
    "\n",
    "        # Append metrics to lists for plotting\n",
    "        accuracy_list.append(accuracy)\n",
    "        #precision_list.append(precision)\n",
    "        #recall_list.append(recall)\n",
    "        #f1_list.append(f1)\n",
    "        clear_output()\n",
    "        #print(f'Epoch {epoch+1}, Validation Loss: {val_loss:.6f}, Accuracy: {accuracy:.4f}, Precision: {precision:.4f}, Recall: {recall:.4f}, F1 Score: {f1:.4f}')\n",
    "        print(f'Epoch {epoch+1}, Validation Loss: {val_loss:.6f}, Accuracy: {accuracy:.4f}')\n",
    "\n",
    "    # Plotting\n",
    "    #conf_matrix = confusion_matrix(targets, predictions)\n",
    "    #print(\"Confusion Matrix:\")\n",
    "    #print(conf_matrix)\n",
    "    plt.figure()\n",
    "    plt.plot(range(1, epoch+2), accuracy_list, label='Accuracy')\n",
    "    #plt.plot(range(1, epoch+2), precision_list, label='Precision')\n",
    "    #plt.plot(range(1, epoch+2), recall_list, label='Recall')\n",
    "    #plt.plot(range(1, epoch+2), f1_list, label='F1 Score')\n",
    "    plt.xlabel('Epoch')\n",
    "    plt.ylabel('Metrics')\n",
    "    plt.legend()\n",
    "    plt.show()\n",
    "\n",
    "    # Early stopping condition\n",
    "    early_stopping(val_loss, model)\n",
    "    if early_stopping.early_stop:\n",
    "        print(\"Early stopping\")\n",
    "        break"
   ]
  },
  {
   "cell_type": "code",
   "execution_count": 33,
   "metadata": {},
   "outputs": [],
   "source": [
    "with torch.no_grad():\n",
    "    data, target = next(iter(val_loader))\n",
    "    data, target = data.cpu(), target.cpu()\n",
    "    model = model.cpu()\n",
    "    output = model(data)"
   ]
  },
  {
   "cell_type": "code",
   "execution_count": 18,
   "metadata": {},
   "outputs": [
    {
     "data": {
      "text/plain": [
       "<All keys matched successfully>"
      ]
     },
     "execution_count": 18,
     "metadata": {},
     "output_type": "execute_result"
    }
   ],
   "source": [
    "model.load_state_dict(torch.load('checkpoint.pt'))"
   ]
  },
  {
   "cell_type": "code",
   "execution_count": 19,
   "metadata": {},
   "outputs": [
    {
     "name": "stdout",
     "output_type": "stream",
     "text": [
      "[(0.06666666666666667, 0.23333333333333334), (0.23333333333333334, 0.3)]\n"
     ]
    }
   ],
   "source": [
    "import numpy as np\n",
    "\n",
    "def get_timestamps(predictions, threshold=0.3, frame_rate=30, window_size=1):\n",
    "    \"\"\"\n",
    "    Получение таймкодов нарушений на основе предсказаний модели.\n",
    "\n",
    "    predictions: np.array, форма [seq_length]\n",
    "        Предсказанные вероятности наличия нарушения для каждого окна кадров.\n",
    "    threshold: float\n",
    "        Пороговое значение для определения нарушения.\n",
    "    frame_rate: int\n",
    "        Количество кадров в секунду.\n",
    "    window_size: int\n",
    "        Количество кадров в одном окне.\n",
    "\n",
    "    Возвращает список кортежей (start_time, end_time) для каждого обнаруженного нарушения.\n",
    "    \"\"\"\n",
    "    timestamps = []\n",
    "    in_violation = False\n",
    "    start_time = None\n",
    "\n",
    "    for i, prob in enumerate(predictions):\n",
    "        if prob >= threshold and not in_violation:\n",
    "            in_violation = True\n",
    "            start_time = i * window_size / frame_rate\n",
    "        elif prob < threshold and in_violation:\n",
    "            in_violation = False\n",
    "            end_time = (i + 1) * window_size / frame_rate\n",
    "            timestamps.append((start_time, end_time))\n",
    "\n",
    "    # Если нарушение продолжается до конца видео\n",
    "    if in_violation:\n",
    "        end_time = len(predictions) * window_size / frame_rate\n",
    "        timestamps.append((start_time, end_time))\n",
    "\n",
    "    return timestamps\n",
    "\n",
    "# Пример предсказаний (для упрощения, генерируем случайные данные)\n",
    "predictions = np.random.rand(10)  # 10 окон кадров\n",
    "predictions[2:4] = 0.7  # Пример нарушения\n",
    "predictions[7:8] = 0.8  # Пример нарушения\n",
    "\n",
    "# Получение таймкодов нарушений\n",
    "timestamps = get_timestamps(predictions, threshold=0.5, frame_rate=30, window_size=1)\n",
    "print(timestamps)  # Ожидаемый выход: [(start_time, end_time), ...]\n"
   ]
  },
  {
   "cell_type": "code",
   "execution_count": 20,
   "metadata": {},
   "outputs": [],
   "source": [
    "def seconds_to_time(total_seconds):\n",
    "    minutes = int(total_seconds // 60)\n",
    "    seconds = int(total_seconds % 60)\n",
    "    return '{:02d}:{:02d}'.format(minutes, seconds)"
   ]
  },
  {
   "cell_type": "code",
   "execution_count": 35,
   "metadata": {},
   "outputs": [
    {
     "name": "stderr",
     "output_type": "stream",
     "text": [
      "100%|██████████| 540/540 [00:23<00:00, 22.70it/s]\n"
     ]
    }
   ],
   "source": [
    "test_dir = \"../data/test_dataset\"\n",
    "video_names = os.listdir(test_dir)\n",
    "video_names = [name for name in video_names if str.lower(name).endswith(\"mp4\")]\n",
    "out_df = []\n",
    "for name in video_names:\n",
    "    out_df_item = {}\n",
    "    out_df_item[\"video_name\"] = name\n",
    "    out_df_item[\"violation_timestamp\"] = []\n",
    "    video_path = os.path.join(test_dir, name)\n",
    "    cap = cv2.VideoCapture(video_path)\n",
    "    frame_rate = cap.get(cv2.CAP_PROP_FPS)\n",
    "    frames = []\n",
    "    outputs = []\n",
    "    while cap.isOpened():\n",
    "        ret, frame = cap.read()\n",
    "        if not ret:\n",
    "            break\n",
    "        frame = cv2.cvtColor(frame, cv2.COLOR_BGR2RGB)\n",
    "        frame = cv2.resize(frame, (50,50))\n",
    "        frames.append(frame / 255)\n",
    "        frames.append(frame)\n",
    "\n",
    "    cap.release()\n",
    "\n",
    "                # Convert the frames list into a numpy array\n",
    "    video_array = np.array(frames)\n",
    "    l = len(video_array) // 10\n",
    "    vid = []\n",
    "    pred = []\n",
    "    # Batch processing frames\n",
    "    batch_size = 10\n",
    "    for i in range(0, l, batch_size):\n",
    "        batch_frames = video_array[i:i+batch_size]\n",
    "        if len(batch_frames) < batch_size:\n",
    "            batch_frames.extend([np.zeros_like(video_array[0]) for _ in range(batch_size - len(batch_frames))])\n",
    "        vid.append([batch_frames])\n",
    "\n",
    "    # Process batches using torch in parallel\n",
    "    with torch.no_grad():\n",
    "        for batch in tqdm(vid):\n",
    "            inp = torch.tensor(batch).float().cpu()\n",
    "            out = model(inp)\n",
    "            pred.extend(out.cpu().detach()[0])\n",
    "\n",
    "    # Process predictions\n",
    "    predictions = get_timestamps(torch.tensor(pred), frame_rate=frame_rate, window_size=int(frame_rate))\n",
    "    for item in predictions:\n",
    "        out_df_item[\"violation_timestamp\"].append(seconds_to_time(item[0]))\n",
    "    out_df.append(out_df_item)"
   ]
  },
  {
   "cell_type": "code",
   "execution_count": 27,
   "metadata": {},
   "outputs": [],
   "source": [
    "import pandas as pd"
   ]
  },
  {
   "cell_type": "code",
   "execution_count": 28,
   "metadata": {},
   "outputs": [],
   "source": [
    "out_df = pd.DataFrame(out_df)\n"
   ]
  },
  {
   "cell_type": "code",
   "execution_count": 29,
   "metadata": {},
   "outputs": [],
   "source": [
    "out_df.to_csv(\"submit.csv\", index=False, sep=\";\")"
   ]
  }
 ],
 "metadata": {
  "kernelspec": {
   "display_name": "DFO",
   "language": "python",
   "name": "python3"
  },
  "language_info": {
   "codemirror_mode": {
    "name": "ipython",
    "version": 3
   },
   "file_extension": ".py",
   "mimetype": "text/x-python",
   "name": "python",
   "nbconvert_exporter": "python",
   "pygments_lexer": "ipython3",
   "version": "3.11.9"
  }
 },
 "nbformat": 4,
 "nbformat_minor": 2
}
